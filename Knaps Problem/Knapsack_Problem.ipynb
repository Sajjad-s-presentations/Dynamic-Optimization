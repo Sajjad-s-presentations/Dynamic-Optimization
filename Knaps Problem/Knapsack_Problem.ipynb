{
  "nbformat": 4,
  "nbformat_minor": 0,
  "metadata": {
    "colab": {
      "provenance": []
    },
    "kernelspec": {
      "name": "python3",
      "display_name": "Python 3"
    },
    "language_info": {
      "name": "python"
    }
  },
  "cells": [
    {
      "cell_type": "markdown",
      "source": [
        "# knapsack problem\n",
        "- Dynamic optimization exercise NO.1 October 2023\n",
        "- Sajjad Ranjbar Yazdi\n",
        "\n",
        "## Problem description\n",
        "According to Wikipedia The knapsack problem is the following problem in combinatorial optimization:\n",
        "\n",
        "Given a set of items, each with a weight and a value, determine which items to include in the collection so that the total weight is less than or equal to a given limit and the total value is as large as possible.\n",
        "[Read more...](https://en.wikipedia.org/wiki/Knapsack_problem)\n",
        "\n",
        "### inputs\n",
        "- Capacity: maximum capacity of our backpack.\n",
        "- Wi: weight of each item.\n",
        "- Vi: value of each item.\n",
        "\n",
        "### output\n",
        "- Xi: The decision to take or not take any item.\n",
        "- Eventual weight and value of Backpack.\n",
        "\n",
        "\n",
        "### Modeling the problem\n",
        "$max \\sum_{i=1}^n Vi \\cdot Xi$\n",
        "\n",
        "$subject to:$\n",
        "\n",
        "$ \\sum_{i=1}^n Wi \\cdot Xi < Capacity$\n",
        "\n",
        "$Xi>0$\n",
        "\n"
      ],
      "metadata": {
        "id": "A6it4DwrD-6i"
      }
    },
    {
      "cell_type": "code",
      "execution_count": 1,
      "metadata": {
        "colab": {
          "base_uri": "https://localhost:8080/"
        },
        "id": "JJQK2T4BPWJ_",
        "outputId": "86f3862b-ec39-48c0-c69c-53c55a297b4c"
      },
      "outputs": [
        {
          "output_type": "stream",
          "name": "stdout",
          "text": [
            "Collecting pyomo\n",
            "  Downloading Pyomo-6.6.2-cp310-cp310-manylinux_2_17_x86_64.manylinux2014_x86_64.whl (12.7 MB)\n",
            "\u001b[2K     \u001b[90m━━━━━━━━━━━━━━━━━━━━━━━━━━━━━━━━━━━━━━━━\u001b[0m \u001b[32m12.7/12.7 MB\u001b[0m \u001b[31m88.6 MB/s\u001b[0m eta \u001b[36m0:00:00\u001b[0m\n",
            "\u001b[?25hCollecting ply (from pyomo)\n",
            "  Downloading ply-3.11-py2.py3-none-any.whl (49 kB)\n",
            "\u001b[2K     \u001b[90m━━━━━━━━━━━━━━━━━━━━━━━━━━━━━━━━━━━━━━━━\u001b[0m \u001b[32m49.6/49.6 kB\u001b[0m \u001b[31m6.6 MB/s\u001b[0m eta \u001b[36m0:00:00\u001b[0m\n",
            "\u001b[?25hInstalling collected packages: ply, pyomo\n",
            "Successfully installed ply-3.11 pyomo-6.6.2\n"
          ]
        }
      ],
      "source": [
        "pip install pyomo"
      ]
    },
    {
      "cell_type": "markdown",
      "source": [
        "### Liberaries"
      ],
      "metadata": {
        "id": "le6C8aqpbYea"
      }
    },
    {
      "cell_type": "code",
      "source": [
        "from pyomo.environ import *\n",
        "from google.colab import drive\n",
        "from google.colab import files"
      ],
      "metadata": {
        "id": "YRPMzQhZPgRj"
      },
      "execution_count": 7,
      "outputs": []
    },
    {
      "cell_type": "markdown",
      "source": [
        "#### Set inputs"
      ],
      "metadata": {
        "id": "uRdSj4ePbjE-"
      }
    },
    {
      "cell_type": "code",
      "source": [
        "weight = {'Bag1':300, 'Bag2':1, 'Bag3':200, 'Bag4':100, 'Bag5':10, 'Bag6':54}\n",
        "value = {'Bag1':4000, 'Bag2':5000, 'Bag3':5000, 'Bag4':2000, 'Bag5':1000, 'Bag6':2834}\n",
        "\n",
        "Capacity = 106\n",
        "M = ConcreteModel()\n",
        "\n",
        "M.ITEMS = Set(initialize=value.keys())"
      ],
      "metadata": {
        "id": "y8aRKQVxCxLc"
      },
      "execution_count": 12,
      "outputs": []
    },
    {
      "cell_type": "code",
      "source": [
        "M.x = Var(M.ITEMS, domain=Binary)"
      ],
      "metadata": {
        "id": "BQ0XjRlpPtHt"
      },
      "execution_count": 13,
      "outputs": []
    },
    {
      "cell_type": "code",
      "source": [
        "M.value = Objective(expr=sum(value[i]*M.x[i] for i in M.ITEMS),sense=maximize)\n",
        "M.weight = Constraint(expr=sum(weight[i]*M.x[i] for i in M.ITEMS) <=Capacity)"
      ],
      "metadata": {
        "id": "h9eYtaRSPx2Z"
      },
      "execution_count": 14,
      "outputs": []
    },
    {
      "cell_type": "code",
      "source": [
        "!apt-get install -y -qq glpk-utils"
      ],
      "metadata": {
        "colab": {
          "base_uri": "https://localhost:8080/"
        },
        "id": "wE4dw-m5P4G3",
        "outputId": "f999359c-1eb3-44b0-abfe-fc4cb00f972b"
      },
      "execution_count": 15,
      "outputs": [
        {
          "output_type": "stream",
          "name": "stdout",
          "text": [
            "Selecting previously unselected package libsuitesparseconfig5:amd64.\n",
            "(Reading database ... 120874 files and directories currently installed.)\n",
            "Preparing to unpack .../libsuitesparseconfig5_1%3a5.10.1+dfsg-4build1_amd64.deb ...\n",
            "Unpacking libsuitesparseconfig5:amd64 (1:5.10.1+dfsg-4build1) ...\n",
            "Selecting previously unselected package libamd2:amd64.\n",
            "Preparing to unpack .../libamd2_1%3a5.10.1+dfsg-4build1_amd64.deb ...\n",
            "Unpacking libamd2:amd64 (1:5.10.1+dfsg-4build1) ...\n",
            "Selecting previously unselected package libcolamd2:amd64.\n",
            "Preparing to unpack .../libcolamd2_1%3a5.10.1+dfsg-4build1_amd64.deb ...\n",
            "Unpacking libcolamd2:amd64 (1:5.10.1+dfsg-4build1) ...\n",
            "Selecting previously unselected package libglpk40:amd64.\n",
            "Preparing to unpack .../libglpk40_5.0-1_amd64.deb ...\n",
            "Unpacking libglpk40:amd64 (5.0-1) ...\n",
            "Selecting previously unselected package glpk-utils.\n",
            "Preparing to unpack .../glpk-utils_5.0-1_amd64.deb ...\n",
            "Unpacking glpk-utils (5.0-1) ...\n",
            "Setting up libsuitesparseconfig5:amd64 (1:5.10.1+dfsg-4build1) ...\n",
            "Setting up libamd2:amd64 (1:5.10.1+dfsg-4build1) ...\n",
            "Setting up libcolamd2:amd64 (1:5.10.1+dfsg-4build1) ...\n",
            "Setting up libglpk40:amd64 (5.0-1) ...\n",
            "Setting up glpk-utils (5.0-1) ...\n",
            "Processing triggers for man-db (2.10.2-1) ...\n",
            "Processing triggers for libc-bin (2.35-0ubuntu3.1) ...\n",
            "/sbin/ldconfig.real: /usr/local/lib/libtbbmalloc_proxy.so.2 is not a symbolic link\n",
            "\n",
            "/sbin/ldconfig.real: /usr/local/lib/libtbbbind_2_5.so.3 is not a symbolic link\n",
            "\n",
            "/sbin/ldconfig.real: /usr/local/lib/libtbbmalloc.so.2 is not a symbolic link\n",
            "\n",
            "/sbin/ldconfig.real: /usr/local/lib/libtbb.so.12 is not a symbolic link\n",
            "\n",
            "/sbin/ldconfig.real: /usr/local/lib/libtbbbind.so.3 is not a symbolic link\n",
            "\n",
            "/sbin/ldconfig.real: /usr/local/lib/libtbbbind_2_0.so.3 is not a symbolic link\n",
            "\n"
          ]
        }
      ]
    },
    {
      "cell_type": "code",
      "source": [
        "solver = SolverFactory('glpk', executable='/usr/bin/glpsol')\n",
        "solver.solve(M)"
      ],
      "metadata": {
        "colab": {
          "base_uri": "https://localhost:8080/"
        },
        "id": "_A6YTkn6P2M8",
        "outputId": "b6088345-19a7-461f-fb2b-ffc681907c9f"
      },
      "execution_count": 16,
      "outputs": [
        {
          "output_type": "execute_result",
          "data": {
            "text/plain": [
              "{'Problem': [{'Name': 'unknown', 'Lower bound': 8834.0, 'Upper bound': 8834.0, 'Number of objectives': 1, 'Number of constraints': 1, 'Number of variables': 6, 'Number of nonzeros': 6, 'Sense': 'maximize'}], 'Solver': [{'Status': 'ok', 'Termination condition': 'optimal', 'Statistics': {'Branch and bound': {'Number of bounded subproblems': '1', 'Number of created subproblems': '1'}}, 'Error rc': 0, 'Time': 0.004369258880615234}], 'Solution': [OrderedDict([('number of solutions', 0), ('number of solutions displayed', 0)])]}"
            ]
          },
          "metadata": {},
          "execution_count": 16
        }
      ]
    },
    {
      "cell_type": "code",
      "source": [
        "for i in value.keys():\n",
        "    print('  ', i, ':', M.x[i]())\n",
        "print(\"objective:\",M.value())"
      ],
      "metadata": {
        "colab": {
          "base_uri": "https://localhost:8080/"
        },
        "id": "7RSt1QBCQWcm",
        "outputId": "856304e8-6875-4601-acae-6b585bc01e17"
      },
      "execution_count": 18,
      "outputs": [
        {
          "output_type": "stream",
          "name": "stdout",
          "text": [
            "   Bag1 : 0.0\n",
            "   Bag2 : 1.0\n",
            "   Bag3 : 0.0\n",
            "   Bag4 : 0.0\n",
            "   Bag5 : 1.0\n",
            "   Bag6 : 1.0\n",
            "objective: 8834.0\n"
          ]
        }
      ]
    }
  ]
}